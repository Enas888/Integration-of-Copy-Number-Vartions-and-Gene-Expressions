{
  "nbformat": 4,
  "nbformat_minor": 0,
  "metadata": {
    "colab": {
      "provenance": []
    },
    "kernelspec": {
      "name": "python3",
      "display_name": "Python 3"
    },
    "language_info": {
      "name": "python"
    }
  },
  "cells": [
    {
      "cell_type": "code",
      "source": [
        "!pip install lifelines"
      ],
      "metadata": {
        "collapsed": true,
        "id": "rFHookCiUIZM"
      },
      "execution_count": null,
      "outputs": []
    },
    {
      "cell_type": "code",
      "execution_count": null,
      "metadata": {
        "id": "6KfIx7DXgsKZ"
      },
      "outputs": [],
      "source": [
        "import pandas as pd\n",
        "import numpy as np\n",
        "\n",
        "import matplotlib.pyplot as plt\n",
        "import seaborn as sns\n",
        "\n",
        "from lifelines import CoxPHFitter\n",
        "from lifelines.utils import concordance_index"
      ]
    },
    {
      "cell_type": "code",
      "source": [
        "# Load data and exclude empty columns\n",
        "clin_data = pd.read_csv('/content/drive/MyDrive/bioinformatics & genomics/Project_02/GBM_clinical_core.txt', sep='\\t', index_col=0).iloc[:, :-2] # Exclude performance_score column\n",
        "ge_data = pd.read_csv('/content/drive/MyDrive/bioinformatics & genomics/Project_02/GBM_mRNA_core.txt', sep='\\t', index_col=0).iloc[:, :-1]\n",
        "cna_data = pd.read_csv('/content/drive/MyDrive/bioinformatics & genomics/Project_02/GBM_CNV_core.txt', sep='\\t', index_col=0).iloc[:, :-1]\n",
        "sur_data = pd.read_csv('/content/drive/MyDrive/bioinformatics & genomics/Project_02/GBM_OS_core.txt', sep='\\t', index_col=0).iloc[:, :-1]\n",
        "test_data = pd.read_csv('/content/drive/MyDrive/bioinformatics & genomics/Project_02/GBM_test_sample_list.txt', sep='\\t', header=None)\n",
        "train_data = pd.read_csv('/content/drive/MyDrive/bioinformatics & genomics/Project_02/GBM_train_sample_list.txt', sep='\\t', header=None)\n",
        "\n",
        "# Drop columns with any NaN values\n",
        "ge_data = ge_data.dropna(axis=1)"
      ],
      "metadata": {
        "id": "cnXuwJQPhvfH",
        "collapsed": true
      },
      "execution_count": null,
      "outputs": []
    },
    {
      "cell_type": "code",
      "source": [
        "#check if the 4 files have exactly the same feature ID\n",
        "clin_data.index.equals(ge_data.index) and ge_data.index.equals(cna_data.index) and cna_data.index.equals(sur_data.index)"
      ],
      "metadata": {
        "colab": {
          "base_uri": "https://localhost:8080/"
        },
        "id": "IGE0t_-sMBMg",
        "outputId": "c2c23083-07f2-4597-f17f-18fd32b2c979"
      },
      "execution_count": null,
      "outputs": [
        {
          "output_type": "execute_result",
          "data": {
            "text/plain": [
              "True"
            ]
          },
          "metadata": {},
          "execution_count": 4
        }
      ]
    },
    {
      "cell_type": "markdown",
      "source": [
        "# `Survival ~ Clinical`"
      ],
      "metadata": {
        "id": "9el_Yu8NRZ9I"
      }
    },
    {
      "cell_type": "code",
      "source": [
        "# Merge data based on the 'feature' index column\n",
        "clin_sur = clin_data.join(sur_data, how='inner')\n",
        "\n",
        "# Convert categorical data to numeric\n",
        "clin_sur['gender'] = clin_sur['gender'].astype('category').cat.codes  # Convert gender to numerical codes\n",
        "\n",
        "#c-index data frame for trained and tested dataset\n",
        "c_index_train1 = []\n",
        "c_index_test1 = []\n",
        "\n",
        "#iterate the entire dataset\n",
        "for i in range(train_data.shape[1]):\n",
        "  #Split clinical data into train and test sets\n",
        "  train_sample = clin_sur[clin_sur.index.isin(train_data[i].values)]\n",
        "  test_sample = clin_sur[clin_sur.index.isin(test_data[i].values)]\n",
        "\n",
        "  # Fit the Cox Proportional Hazards model using the training data\n",
        "  cox1 = CoxPHFitter()\n",
        "  cox1.fit(train_sample, duration_col='OS_OS', event_col='OS_vital_status')\n",
        "  #cox1.check_assumptions(train_sample)\n",
        "\n",
        "  #calculate and store c-index for trained and tested data.\n",
        "  c_index_train = concordance_index(train_sample['OS_OS'], -cox1.predict_partial_hazard(train_sample), train_sample['OS_vital_status'])\n",
        "  c_index_test = concordance_index(test_sample['OS_OS'], -cox1.predict_partial_hazard(test_sample), test_sample['OS_vital_status'])\n",
        "\n",
        "  # Append the C-index to the lists\n",
        "  c_index_train1.append(c_index_train)\n",
        "  c_index_test1.append(c_index_test)\n",
        "\n",
        "# Convert the lists of C-index values to NumPy arrays\n",
        "clinical_c_index_train = np.array(c_index_train1)\n",
        "clinical_c_index_test = np.array(c_index_test1)"
      ],
      "metadata": {
        "id": "nkOs3zSwKTVb"
      },
      "execution_count": null,
      "outputs": []
    },
    {
      "cell_type": "code",
      "source": [
        "# Create a DataFrame with the C-index values and set labels\n",
        "c_index_data = pd.DataFrame({\n",
        "    \"C-index\": c_index_train1 + c_index_test1,\n",
        "    \"Set\": [\"Train\"] * len(c_index_train1) + [\"Test\"] * len(c_index_test1)\n",
        "})\n",
        "\n",
        "# Plot the C-index values\n",
        "sns.boxplot(data=c_index_data, x=\"Set\", y=\"C-index\", width=0.2)\n",
        "plt.yticks(np.linspace(0.3, 0.8, 6), labels=np.linspace(0.3, 0.8, 6).round(1))\n",
        "plt.axhline(0.5, linestyle='dashed', color='red')\n",
        "plt.xlabel(\"\")"
      ],
      "metadata": {
        "colab": {
          "base_uri": "https://localhost:8080/",
          "height": 452
        },
        "id": "VZEF5OUNVjJX",
        "outputId": "8a52beb4-45c0-47fd-b5dc-5a1454d1ec82"
      },
      "execution_count": null,
      "outputs": [
        {
          "output_type": "execute_result",
          "data": {
            "text/plain": [
              "Text(0.5, 0, '')"
            ]
          },
          "metadata": {},
          "execution_count": 6
        },
        {
          "output_type": "display_data",
          "data": {
            "text/plain": [
              "<Figure size 640x480 with 1 Axes>"
            ],
            "image/png": "[encoded data removed]"
          },
          "metadata": {}
        }
      ]
    },
    {
      "cell_type": "markdown",
      "source": [
        "### Survival ~ CNA"
      ],
      "metadata": {
        "id": "z_g4zhUHo321"
      }
    },
    {
      "cell_type": "code",
      "source": [
        "# Handle CNV data similarly with Lasso regularization for feature selection\n",
        "os_cnv = cna_data.join(sur_data, how='inner')\n",
        "\n",
        "# Initialize lists for storing C-index values for CNV data\n",
        "cnv_c_index_train = []\n",
        "cnv_c_index_test = []\n",
        "\n",
        "# Iterate over the entire dataset for bootstrapping and validation\n",
        "for i in range(train_data.shape[1]):\n",
        "    # Split CNV data into train and test sets\n",
        "    train_sample = os_cnv[os_cnv.index.isin(train_data[i].values)]\n",
        "    test_sample = os_cnv[os_cnv.index.isin(test_data[i].values)]\n",
        "\n",
        "    # Fit the Cox Proportional Hazards model using the training data with Lasso regularization\n",
        "    cphm = CoxPHFitter(penalizer=0.1, l1_ratio=1.0)\n",
        "    cphm.fit(train_sample, duration_col='OS_OS', event_col='OS_vital_status')\n",
        "\n",
        "    # Calculate and store C-index for trained and tested data\n",
        "    c_index_train = cphm.concordance_index_\n",
        "    c_index_test = concordance_index(test_sample['OS_OS'], -cphm.predict_partial_hazard(test_sample), test_sample['OS_vital_status'])\n",
        "\n",
        "    # Append the C-index to the lists\n",
        "    cnv_c_index_train.append(c_index_train)\n",
        "    cnv_c_index_test.append(c_index_test)\n",
        "\n",
        "# Convert the lists of C-index values to NumPy arrays\n",
        "cnv_c_index_train = np.array(cnv_c_index_train)\n",
        "cnv_c_index_test = np.array(cnv_c_index_test)\n",
        "\n",
        "# Create a DataFrame with the C-index values and set labels\n",
        "cnv_c_index_data = pd.DataFrame({\n",
        "    \"C-index\": np.concatenate((cnv_c_index_train, cnv_c_index_test)),\n",
        "    \"Set\": [\"Train\"] * len(cnv_c_index_train) + [\"Test\"] * len(cnv_c_index_test)\n",
        "})\n",
        "\n",
        "# Plot the C-index values for CNV data\n",
        "sns.boxplot(data=cnv_c_index_data, x=\"Set\", y=\"C-index\", width=0.1, palette={\"Train\": \"skyblue\", \"Test\": \"pink\"})\n",
        "plt.yticks(np.linspace(0.3, 0.8, 6), labels=np.linspace(0.3, 0.8, 6).round(1))\n",
        "plt.axhline(0.5, linestyle='dashed', color='red')\n",
        "plt.xlabel(\"\")\n",
        "plt.show()"
      ],
      "metadata": {
        "colab": {
          "base_uri": "https://localhost:8080/",
          "height": 577
        },
        "id": "eGhu6jnle3oy",
        "outputId": "06adaee5-ec90-4da0-81ad-a21f5b8a4e7e"
      },
      "execution_count": null,
      "outputs": [
        {
          "output_type": "stream",
          "name": "stderr",
          "text": [
            "/usr/local/lib/python3.10/dist-packages/lifelines/fitters/coxph_fitter.py:1614: ConvergenceWarning: Newton-Raphson failed to converge sufficiently. Please see the following tips in the lifelines documentation: https://lifelines.readthedocs.io/en/latest/Examples.html#problems-with-convergence-in-the-cox-proportional-hazard-model\n",
            "  warnings.warn(\n",
            "<ipython-input-9-1273804e10c4>:37: FutureWarning: \n",
            "\n",
            "Passing `palette` without assigning `hue` is deprecated and will be removed in v0.14.0. Assign the `x` variable to `hue` and set `legend=False` for the same effect.\n",
            "\n",
            "  sns.boxplot(data=cnv_c_index_data, x=\"Set\", y=\"C-index\", width=0.1, palette={\"Train\": \"skyblue\", \"Test\": \"pink\"})\n"
          ]
        },
        {
          "output_type": "display_data",
          "data": {
            "text/plain": [
              "<Figure size 640x480 with 1 Axes>"
            ],
            "image/png": "[encoded data removed]"
          },
          "metadata": {}
        }
      ]
    },
    {
      "cell_type": "markdown",
      "source": [
        "### Gene Expression ~ *survival*"
      ],
      "metadata": {
        "id": "ai0g5Ndykehn"
      }
    },
    {
      "cell_type": "code",
      "source": [
        "# Handle mRNA data similarly\n",
        "os_mrna = ge_data.join(sur_data, how='inner')\n",
        "\n",
        "# Significant columns based on previous analysis\n",
        "significant_cols = [\n",
        "    \"mRNA_LOC155006\",\n",
        "    \"mRNA_RPP30\",\n",
        "    \"mRNA_LMNA\",\n",
        "    \"mRNA_MICALL2\",\n",
        "]\n",
        "\n",
        "# Fit the model on significant columns\n",
        "cphm = CoxPHFitter()\n",
        "cphm.fit(os_mrna[[\"OS_OS\", \"OS_vital_status\", *significant_cols]], event_col=\"OS_vital_status\", duration_col=\"OS_OS\")\n",
        "cphm.check_assumptions(os_mrna[[\"OS_OS\", \"OS_vital_status\", *significant_cols]])\n",
        "print(f\"C-index = {cphm.concordance_index_:.2f}\")\n",
        "cphm.summary.round(3)\n",
        "\n",
        "# Initialize lists for storing C-index values for mRNA data\n",
        "mrna_c_index_train = []\n",
        "mrna_c_index_test = []\n",
        "\n",
        "# Iterate over the entire dataset for bootstrapping and validation\n",
        "for i in range(train_data.shape[1]):\n",
        "    train_sample = os_mrna[os_mrna.index.isin(train_data[i].values)].iloc[:, 1:]\n",
        "    test_sample = os_mrna[os_mrna.index.isin(test_data[i].values)].iloc[:, 1:]\n",
        "\n",
        "    # Fit the Cox Proportional Hazards model using the training data with Lasso regularization\n",
        "    cphm = CoxPHFitter(penalizer=0.1, l1_ratio=1.0)\n",
        "    cphm.fit(train_sample[[\"OS_OS\", \"OS_vital_status\", *significant_cols]], event_col=\"OS_vital_status\", duration_col=\"OS_OS\")\n",
        "\n",
        "    # Calculate and store C-index for trained and tested data\n",
        "    mrna_c_index_train.append(cphm.concordance_index_)\n",
        "    mrna_c_index_test.append(concordance_index(test_sample['OS_OS'], -cphm.predict_partial_hazard(test_sample), test_sample['OS_vital_status']))\n",
        "\n",
        "# Convert the lists of C-index values to NumPy arrays\n",
        "mrna_c_index_train = np.array(mrna_c_index_train)\n",
        "mrna_c_index_test = np.array(mrna_c_index_test)\n",
        "\n",
        "# Create a DataFrame with the C-index values and set labels\n",
        "stacked = np.hstack([mrna_c_index_train, mrna_c_index_test])\n",
        "both_sets = np.vstack([stacked, [\"Train\"] * len(mrna_c_index_train) + [\"Test\"] * len(mrna_c_index_test)]).T\n",
        "mrna_results_df = pd.DataFrame({\n",
        "    \"Feature\": [\"mRNA\"] * len(both_sets),\n",
        "    \"C-index\": both_sets[:, 0].astype(float),\n",
        "    \"Set\": both_sets[:, 1]\n",
        "})\n",
        "\n",
        "# Plot the C-index values for mRNA data\n",
        "sns.boxplot(mrna_results_df, x=\"Feature\", y=\"C-index\", width=0.1, whis=1.5, hue=\"Set\", palette={\"Train\": \"skyblue\", \"Test\": \"pink\"})\n",
        "plt.yticks(np.linspace(0.3, 0.8, 6), labels=np.linspace(0.3, 0.8, 6).round(1))\n",
        "plt.axhline(0.5, linestyle='dashed', color='red')\n",
        "plt.xticks([0], [\"mRNA\"])\n",
        "plt.xlabel(\"\")\n",
        "plt.show()"
      ],
      "metadata": {
        "colab": {
          "base_uri": "https://localhost:8080/",
          "height": 465
        },
        "id": "bqDrWHXRgbd8",
        "outputId": "b17ea442-8a55-4901-e67d-20da40edebd4"
      },
      "execution_count": null,
      "outputs": [
        {
          "output_type": "stream",
          "name": "stdout",
          "text": [
            "Proportional hazard assumption looks okay.\n",
            "C-index = 0.64\n"
          ]
        },
        {
          "output_type": "display_data",
          "data": {
            "text/plain": [
              "<Figure size 640x480 with 1 Axes>"
            ],
            "image/png": "[encoded data removed]"
          },
          "metadata": {}
        }
      ]
    },
    {
      "cell_type": "markdown",
      "source": [
        "### Clin + CNA ~ survival"
      ],
      "metadata": {
        "id": "fcoXCM0qk_nW"
      }
    },
    {
      "cell_type": "code",
      "source": [],
      "metadata": {
        "id": "iHKwbZG9kJf9"
      },
      "execution_count": null,
      "outputs": []
    },
    {
      "cell_type": "markdown",
      "source": [
        "### Clin + genex ~ *survival*"
      ],
      "metadata": {
        "id": "xc0y15XBovit"
      }
    },
    {
      "cell_type": "code",
      "source": [],
      "metadata": {
        "id": "ZY8NhdF8o33J"
      },
      "execution_count": null,
      "outputs": []
    },
    {
      "cell_type": "markdown",
      "source": [
        "### CNA + genex ~ survuval"
      ],
      "metadata": {
        "id": "RNQvs3Eno6BI"
      }
    },
    {
      "cell_type": "code",
      "source": [],
      "metadata": {
        "id": "lbc4zKxbpENN"
      },
      "execution_count": null,
      "outputs": []
    },
    {
      "cell_type": "markdown",
      "source": [
        "### CNA + genex + clin ~ survival"
      ],
      "metadata": {
        "id": "lBaB684HsfZc"
      }
    },
    {
      "cell_type": "code",
      "source": [],
      "metadata": {
        "id": "ifbYBgMBvlvz"
      },
      "execution_count": null,
      "outputs": []
    }
  ]
}